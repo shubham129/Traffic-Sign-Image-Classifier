{
 "cells": [
  {
   "cell_type": "code",
   "execution_count": 0,
   "metadata": {
    "colab": {},
    "colab_type": "code",
    "id": "ngpU1ZIeD8cu"
   },
   "outputs": [],
   "source": [
    "#Unzipping the Zip file\n",
    "import zipfile\n",
    "\n",
    "zip_ref = zipfile.ZipFile(\"/content/drive/My Drive/trafic.zip\", 'r')\n",
    "zip_ref.extractall()\n",
    "zip_ref.close()"
   ]
  },
  {
   "cell_type": "code",
   "execution_count": 2,
   "metadata": {
    "colab": {
     "base_uri": "https://localhost:8080/",
     "height": 51
    },
    "colab_type": "code",
    "id": "tSz8mOVLKlEE",
    "outputId": "9080c195-cb7f-4513-80b7-132c153444fa"
   },
   "outputs": [
    {
     "name": "stdout",
     "output_type": "stream",
     "text": [
      "TensorFlow 1.x selected.\n"
     ]
    },
    {
     "name": "stderr",
     "output_type": "stream",
     "text": [
      "Using TensorFlow backend.\n"
     ]
    }
   ],
   "source": [
    "#Importing libraries\n",
    "import numpy as np\n",
    "import pandas as pd\n",
    "import matplotlib.pyplot as plt\n",
    "%tensorflow_version 1.x\n",
    "import tensorflow as tf\n",
    "from PIL import Image\n",
    "import keras\n",
    "from keras.models import Sequential\n",
    "from keras.layers import Conv2D, MaxPool2D, Flatten, Dense, InputLayer, BatchNormalization, Dropout\n",
    "from keras.utils import to_categorical\n",
    "import os\n",
    "from sklearn.model_selection import train_test_split"
   ]
  },
  {
   "cell_type": "code",
   "execution_count": 0,
   "metadata": {
    "colab": {},
    "colab_type": "code",
    "id": "26Dnf-60L-Vo"
   },
   "outputs": [],
   "source": [
    "#Storing images and labels in a list\n",
    "\n",
    "data = []\n",
    "labels = []\n",
    "classes = 43\n",
    "cur_path = os.getcwd()\n",
    "#Retrieving the images and their labels \n",
    "for i in range(classes):\n",
    "    path = os.path.join('/content/trafic/Train',str(i))\n",
    "    images = os.listdir(path)\n",
    "    for a in images:\n",
    "      image = Image.open(path + '/'+ a)\n",
    "      image = image.resize((30,30))     \n",
    "      image = np.array(image)\n",
    "      #sim = Image.fromarray(image)\n",
    "      data.append(image)\n",
    "      labels.append(i)"
   ]
  },
  {
   "cell_type": "code",
   "execution_count": 4,
   "metadata": {
    "colab": {
     "base_uri": "https://localhost:8080/",
     "height": 34
    },
    "colab_type": "code",
    "id": "t5Un3ns6MieF",
    "outputId": "30a33b85-7b50-404c-f092-915f5eeb4fbb"
   },
   "outputs": [
    {
     "data": {
      "text/plain": [
       "((39209, 30, 30, 3), (39209,))"
      ]
     },
     "execution_count": 4,
     "metadata": {
      "tags": []
     },
     "output_type": "execute_result"
    }
   ],
   "source": [
    "#Converting list into numpy array\n",
    "data = np.array(data)\n",
    "labels = np.array(labels)\n",
    "data.shape, labels.shape   "
   ]
  },
  {
   "cell_type": "code",
   "execution_count": 5,
   "metadata": {
    "colab": {
     "base_uri": "https://localhost:8080/",
     "height": 34
    },
    "colab_type": "code",
    "id": "xOmVxiRUQWL5",
    "outputId": "bd4dc3db-b200-4933-b4de-defc2fa5cc3b"
   },
   "outputs": [
    {
     "data": {
      "text/plain": [
       "((31367, 30, 30, 3), (7842, 30, 30, 3), (31367,), (7842,))"
      ]
     },
     "execution_count": 5,
     "metadata": {
      "tags": []
     },
     "output_type": "execute_result"
    }
   ],
   "source": [
    "#Splitting training and testing dataset\n",
    "X_train, X_test, y_train, y_test =  train_test_split(data, labels, test_size=0.2, random_state=42)\n",
    "X_train.shape, X_test.shape, y_train.shape, y_test.shape"
   ]
  },
  {
   "cell_type": "code",
   "execution_count": 6,
   "metadata": {
    "colab": {
     "base_uri": "https://localhost:8080/",
     "height": 34
    },
    "colab_type": "code",
    "id": "xvA2IcldQ9Br",
    "outputId": "1e85e21e-fe81-41d4-c6e3-dd32da3765eb"
   },
   "outputs": [
    {
     "data": {
      "text/plain": [
       "((31367, 43), (7842, 43))"
      ]
     },
     "execution_count": 6,
     "metadata": {
      "tags": []
     },
     "output_type": "execute_result"
    }
   ],
   "source": [
    "#One hot encoding\n",
    "y_train = to_categorical(y_train, 43)\n",
    "y_test = to_categorical(y_test, 43)\n",
    "y_train.shape  , y_test.shape"
   ]
  },
  {
   "cell_type": "code",
   "execution_count": 7,
   "metadata": {
    "colab": {
     "base_uri": "https://localhost:8080/",
     "height": 34
    },
    "colab_type": "code",
    "id": "AdwXTL88ZGsI",
    "outputId": "bf9df2ce-2c34-4ab3-fa1e-d66bc502110e"
   },
   "outputs": [
    {
     "data": {
      "text/plain": [
       "(30, 30, 3)"
      ]
     },
     "execution_count": 7,
     "metadata": {
      "tags": []
     },
     "output_type": "execute_result"
    }
   ],
   "source": [
    "input_shape=X_train.shape[1:]\n",
    "input_shape"
   ]
  },
  {
   "cell_type": "code",
   "execution_count": 8,
   "metadata": {
    "colab": {
     "base_uri": "https://localhost:8080/",
     "height": 122
    },
    "colab_type": "code",
    "id": "_BaWCcsTReEG",
    "outputId": "b9b78997-df2c-46c2-bbbb-48f2fd1a9ccc"
   },
   "outputs": [
    {
     "name": "stdout",
     "output_type": "stream",
     "text": [
      "WARNING:tensorflow:From /tensorflow-1.15.2/python3.6/tensorflow_core/python/ops/resource_variable_ops.py:1630: calling BaseResourceVariable.__init__ (from tensorflow.python.ops.resource_variable_ops) with constraint is deprecated and will be removed in a future version.\n",
      "Instructions for updating:\n",
      "If using Keras pass *_constraint arguments to layers.\n",
      "WARNING:tensorflow:From /usr/local/lib/python3.6/dist-packages/keras/backend/tensorflow_backend.py:4070: The name tf.nn.max_pool is deprecated. Please use tf.nn.max_pool2d instead.\n",
      "\n"
     ]
    }
   ],
   "source": [
    "#Building the model\n",
    "model = Sequential()\n",
    "\n",
    "model.add(Conv2D(filters=32, kernel_size=(5,5), activation='relu', input_shape=input_shape))\n",
    "model.add(Conv2D(filters=32, kernel_size=(5,5), activation='relu'))\n",
    "model.add(MaxPool2D(pool_size=(2, 2)))\n",
    "model.add(Dropout(rate=0.25))\n",
    "\n",
    "model.add(Conv2D(filters=64, kernel_size=(3, 3), activation='relu'))\n",
    "model.add(Conv2D(filters=64, kernel_size=(3, 3), activation='relu'))\n",
    "model.add(MaxPool2D(pool_size=(2, 2)))\n",
    "model.add(Dropout(rate=0.25))\n",
    "\n",
    "#model.add(Conv2D(filters=128, kernel_size=(3, 3), activation='relu'))\n",
    "#model.add(Conv2D(filters=128, kernel_size=(3, 3), activation='relu'))\n",
    "#model.add(MaxPool2D(pool_size=(2, 2)))\n",
    "#model.add(Dropout(rate=0.25))\n",
    "\n",
    "model.add(Flatten())\n",
    "model.add(Dense(256, activation='relu'))\n",
    "#model.add(Dense(512, activation='relu'))\n",
    "model.add(Dropout(rate=0.5))\n",
    "model.add(Dense(43, activation='softmax'))\n"
   ]
  },
  {
   "cell_type": "code",
   "execution_count": 9,
   "metadata": {
    "colab": {
     "base_uri": "https://localhost:8080/",
     "height": 561
    },
    "colab_type": "code",
    "id": "CBI2nGNJUHOI",
    "outputId": "2cc34564-49df-45f4-d305-e4acbc4ee836"
   },
   "outputs": [
    {
     "name": "stdout",
     "output_type": "stream",
     "text": [
      "Model: \"sequential_1\"\n",
      "_________________________________________________________________\n",
      "Layer (type)                 Output Shape              Param #   \n",
      "=================================================================\n",
      "conv2d_1 (Conv2D)            (None, 26, 26, 32)        2432      \n",
      "_________________________________________________________________\n",
      "conv2d_2 (Conv2D)            (None, 22, 22, 32)        25632     \n",
      "_________________________________________________________________\n",
      "max_pooling2d_1 (MaxPooling2 (None, 11, 11, 32)        0         \n",
      "_________________________________________________________________\n",
      "dropout_1 (Dropout)          (None, 11, 11, 32)        0         \n",
      "_________________________________________________________________\n",
      "conv2d_3 (Conv2D)            (None, 9, 9, 64)          18496     \n",
      "_________________________________________________________________\n",
      "conv2d_4 (Conv2D)            (None, 7, 7, 64)          36928     \n",
      "_________________________________________________________________\n",
      "max_pooling2d_2 (MaxPooling2 (None, 3, 3, 64)          0         \n",
      "_________________________________________________________________\n",
      "dropout_2 (Dropout)          (None, 3, 3, 64)          0         \n",
      "_________________________________________________________________\n",
      "flatten_1 (Flatten)          (None, 576)               0         \n",
      "_________________________________________________________________\n",
      "dense_1 (Dense)              (None, 256)               147712    \n",
      "_________________________________________________________________\n",
      "dropout_3 (Dropout)          (None, 256)               0         \n",
      "_________________________________________________________________\n",
      "dense_2 (Dense)              (None, 43)                11051     \n",
      "=================================================================\n",
      "Total params: 242,251\n",
      "Trainable params: 242,251\n",
      "Non-trainable params: 0\n",
      "_________________________________________________________________\n"
     ]
    }
   ],
   "source": [
    "#Summary of model\n",
    "model.summary()"
   ]
  },
  {
   "cell_type": "code",
   "execution_count": 0,
   "metadata": {
    "colab": {},
    "colab_type": "code",
    "id": "43TBafJUSJKN"
   },
   "outputs": [],
   "source": [
    "#Compiling the model\n",
    "model.compile(loss='categorical_crossentropy', optimizer='adam', metrics=['accuracy'])"
   ]
  },
  {
   "cell_type": "code",
   "execution_count": 11,
   "metadata": {
    "colab": {
     "base_uri": "https://localhost:8080/",
     "height": 1000
    },
    "colab_type": "code",
    "id": "9z6DRESmSJG4",
    "outputId": "a50888aa-f341-4d9d-bc36-aa16fe8770c8"
   },
   "outputs": [
    {
     "name": "stdout",
     "output_type": "stream",
     "text": [
      "WARNING:tensorflow:From /usr/local/lib/python3.6/dist-packages/keras/backend/tensorflow_backend.py:422: The name tf.global_variables is deprecated. Please use tf.compat.v1.global_variables instead.\n",
      "\n",
      "Train on 31367 samples, validate on 7842 samples\n",
      "Epoch 1/30\n",
      "31367/31367 [==============================] - 11s 354us/step - loss: 2.2032 - accuracy: 0.4732 - val_loss: 0.3859 - val_accuracy: 0.9081\n",
      "Epoch 2/30\n",
      "31367/31367 [==============================] - 4s 113us/step - loss: 0.5359 - accuracy: 0.8525 - val_loss: 0.1635 - val_accuracy: 0.9600\n",
      "Epoch 3/30\n",
      "31367/31367 [==============================] - 4s 115us/step - loss: 0.2960 - accuracy: 0.9173 - val_loss: 0.0673 - val_accuracy: 0.9825\n",
      "Epoch 4/30\n",
      "31367/31367 [==============================] - 4s 113us/step - loss: 0.1991 - accuracy: 0.9434 - val_loss: 0.0547 - val_accuracy: 0.9842\n",
      "Epoch 5/30\n",
      "31367/31367 [==============================] - 4s 113us/step - loss: 0.1972 - accuracy: 0.9466 - val_loss: 0.0627 - val_accuracy: 0.9850\n",
      "Epoch 6/30\n",
      "31367/31367 [==============================] - 4s 113us/step - loss: 0.1835 - accuracy: 0.9526 - val_loss: 0.0400 - val_accuracy: 0.9889\n",
      "Epoch 7/30\n",
      "31367/31367 [==============================] - 4s 114us/step - loss: 0.1502 - accuracy: 0.9606 - val_loss: 0.0388 - val_accuracy: 0.9894\n",
      "Epoch 8/30\n",
      "31367/31367 [==============================] - 4s 117us/step - loss: 0.1476 - accuracy: 0.9610 - val_loss: 0.0358 - val_accuracy: 0.9906\n",
      "Epoch 9/30\n",
      "31367/31367 [==============================] - 4s 118us/step - loss: 0.1397 - accuracy: 0.9637 - val_loss: 0.0518 - val_accuracy: 0.9839\n",
      "Epoch 10/30\n",
      "31367/31367 [==============================] - 4s 118us/step - loss: 0.1228 - accuracy: 0.9675 - val_loss: 0.0221 - val_accuracy: 0.9945\n",
      "Epoch 11/30\n",
      "31367/31367 [==============================] - 4s 113us/step - loss: 0.1231 - accuracy: 0.9666 - val_loss: 0.0650 - val_accuracy: 0.9861\n",
      "Epoch 12/30\n",
      "31367/31367 [==============================] - 4s 113us/step - loss: 0.1380 - accuracy: 0.9653 - val_loss: 0.0402 - val_accuracy: 0.9879\n",
      "Epoch 13/30\n",
      "31367/31367 [==============================] - 4s 113us/step - loss: 0.1043 - accuracy: 0.9735 - val_loss: 0.0202 - val_accuracy: 0.9950\n",
      "Epoch 14/30\n",
      "31367/31367 [==============================] - 4s 113us/step - loss: 0.1236 - accuracy: 0.9688 - val_loss: 0.0233 - val_accuracy: 0.9946\n",
      "Epoch 15/30\n",
      "31367/31367 [==============================] - 4s 113us/step - loss: 0.1258 - accuracy: 0.9689 - val_loss: 0.0383 - val_accuracy: 0.9904\n",
      "Epoch 16/30\n",
      "31367/31367 [==============================] - 4s 113us/step - loss: 0.1309 - accuracy: 0.9675 - val_loss: 0.0411 - val_accuracy: 0.9893\n",
      "Epoch 17/30\n",
      "31367/31367 [==============================] - 4s 113us/step - loss: 0.1106 - accuracy: 0.9740 - val_loss: 0.0247 - val_accuracy: 0.9931\n",
      "Epoch 18/30\n",
      "31367/31367 [==============================] - 4s 113us/step - loss: 0.1044 - accuracy: 0.9740 - val_loss: 0.0251 - val_accuracy: 0.9948\n",
      "Epoch 19/30\n",
      "31367/31367 [==============================] - 4s 113us/step - loss: 0.1200 - accuracy: 0.9716 - val_loss: 0.0229 - val_accuracy: 0.9939\n",
      "Epoch 20/30\n",
      "31367/31367 [==============================] - 4s 112us/step - loss: 0.1114 - accuracy: 0.9734 - val_loss: 0.0281 - val_accuracy: 0.9926\n",
      "Epoch 21/30\n",
      "31367/31367 [==============================] - 4s 112us/step - loss: 0.1321 - accuracy: 0.9699 - val_loss: 0.0340 - val_accuracy: 0.9921\n",
      "Epoch 22/30\n",
      "31367/31367 [==============================] - 4s 112us/step - loss: 0.1150 - accuracy: 0.9734 - val_loss: 0.0342 - val_accuracy: 0.9904\n",
      "Epoch 23/30\n",
      "31367/31367 [==============================] - 4s 113us/step - loss: 0.1124 - accuracy: 0.9733 - val_loss: 0.0450 - val_accuracy: 0.9898\n",
      "Epoch 24/30\n",
      "31367/31367 [==============================] - 4s 113us/step - loss: 0.1070 - accuracy: 0.9751 - val_loss: 0.0311 - val_accuracy: 0.9952\n",
      "Epoch 25/30\n",
      "31367/31367 [==============================] - 4s 112us/step - loss: 0.1138 - accuracy: 0.9730 - val_loss: 0.0218 - val_accuracy: 0.9940\n",
      "Epoch 26/30\n",
      "31367/31367 [==============================] - 3s 112us/step - loss: 0.0959 - accuracy: 0.9781 - val_loss: 0.0258 - val_accuracy: 0.9948\n",
      "Epoch 27/30\n",
      "31367/31367 [==============================] - 4s 112us/step - loss: 0.1267 - accuracy: 0.9733 - val_loss: 0.0451 - val_accuracy: 0.9888\n",
      "Epoch 28/30\n",
      "31367/31367 [==============================] - 4s 113us/step - loss: 0.1129 - accuracy: 0.9756 - val_loss: 0.0278 - val_accuracy: 0.9927\n",
      "Epoch 29/30\n",
      "31367/31367 [==============================] - 3s 112us/step - loss: 0.1238 - accuracy: 0.9724 - val_loss: 0.0408 - val_accuracy: 0.9915\n",
      "Epoch 30/30\n",
      "31367/31367 [==============================] - 3s 112us/step - loss: 0.1208 - accuracy: 0.9739 - val_loss: 0.0350 - val_accuracy: 0.9921\n"
     ]
    }
   ],
   "source": [
    "history=model.fit(X_train, y_train, batch_size=64, epochs=30, validation_data=(X_test, y_test))"
   ]
  },
  {
   "cell_type": "code",
   "execution_count": 12,
   "metadata": {
    "colab": {
     "base_uri": "https://localhost:8080/",
     "height": 573
    },
    "colab_type": "code",
    "id": "3I-FY56uSJBA",
    "outputId": "3b0d3a13-a6ca-4f20-e8e1-cba70edf317a"
   },
   "outputs": [
    {
     "data": {
      "image/png": "[encoded data removed]",
      "text/plain": [
       "<Figure size 432x288 with 1 Axes>"
      ]
     },
     "metadata": {
      "needs_background": "light",
      "tags": []
     },
     "output_type": "display_data"
    },
    {
     "data": {
      "image/png": "[encoded data removed]",
      "text/plain": [
       "<Figure size 432x288 with 1 Axes>"
      ]
     },
     "metadata": {
      "needs_background": "light",
      "tags": []
     },
     "output_type": "display_data"
    }
   ],
   "source": [
    "#Graph for accuracy \n",
    "plt.figure(0)\n",
    "plt.plot(history.history['accuracy'], label='training accuracy')\n",
    "plt.plot(history.history['val_accuracy'], label='val accuracy')\n",
    "plt.title('Accuracy')\n",
    "plt.xlabel('epochs')\n",
    "plt.ylabel('accuracy')\n",
    "plt.legend()\n",
    "plt.show()\n",
    "\n",
    "#Graph for loss\n",
    "plt.figure(1)\n",
    "plt.plot(history.history['loss'], label='training loss')\n",
    "plt.plot(history.history['val_loss'], label='val loss')\n",
    "plt.title('Loss')\n",
    "plt.xlabel('epochs')\n",
    "plt.ylabel('loss')\n",
    "plt.legend()\n",
    "plt.show()"
   ]
  },
  {
   "cell_type": "code",
   "execution_count": 13,
   "metadata": {
    "colab": {
     "base_uri": "https://localhost:8080/",
     "height": 204
    },
    "colab_type": "code",
    "id": "8tR_zkrtqri-",
    "outputId": "9721368a-f9e8-48f5-dc17-fc66456867f7"
   },
   "outputs": [
    {
     "data": {
      "text/html": [
       "<div>\n",
       "<style scoped>\n",
       "    .dataframe tbody tr th:only-of-type {\n",
       "        vertical-align: middle;\n",
       "    }\n",
       "\n",
       "    .dataframe tbody tr th {\n",
       "        vertical-align: top;\n",
       "    }\n",
       "\n",
       "    .dataframe thead th {\n",
       "        text-align: right;\n",
       "    }\n",
       "</style>\n",
       "<table border=\"1\" class=\"dataframe\">\n",
       "  <thead>\n",
       "    <tr style=\"text-align: right;\">\n",
       "      <th></th>\n",
       "      <th>Width</th>\n",
       "      <th>Height</th>\n",
       "      <th>Roi.X1</th>\n",
       "      <th>Roi.Y1</th>\n",
       "      <th>Roi.X2</th>\n",
       "      <th>Roi.Y2</th>\n",
       "      <th>ClassId</th>\n",
       "      <th>Path</th>\n",
       "    </tr>\n",
       "  </thead>\n",
       "  <tbody>\n",
       "    <tr>\n",
       "      <th>0</th>\n",
       "      <td>53</td>\n",
       "      <td>54</td>\n",
       "      <td>6</td>\n",
       "      <td>5</td>\n",
       "      <td>48</td>\n",
       "      <td>49</td>\n",
       "      <td>16</td>\n",
       "      <td>Test/00000.png</td>\n",
       "    </tr>\n",
       "    <tr>\n",
       "      <th>1</th>\n",
       "      <td>42</td>\n",
       "      <td>45</td>\n",
       "      <td>5</td>\n",
       "      <td>5</td>\n",
       "      <td>36</td>\n",
       "      <td>40</td>\n",
       "      <td>1</td>\n",
       "      <td>Test/00001.png</td>\n",
       "    </tr>\n",
       "    <tr>\n",
       "      <th>2</th>\n",
       "      <td>48</td>\n",
       "      <td>52</td>\n",
       "      <td>6</td>\n",
       "      <td>6</td>\n",
       "      <td>43</td>\n",
       "      <td>47</td>\n",
       "      <td>38</td>\n",
       "      <td>Test/00002.png</td>\n",
       "    </tr>\n",
       "    <tr>\n",
       "      <th>3</th>\n",
       "      <td>27</td>\n",
       "      <td>29</td>\n",
       "      <td>5</td>\n",
       "      <td>5</td>\n",
       "      <td>22</td>\n",
       "      <td>24</td>\n",
       "      <td>33</td>\n",
       "      <td>Test/00003.png</td>\n",
       "    </tr>\n",
       "    <tr>\n",
       "      <th>4</th>\n",
       "      <td>60</td>\n",
       "      <td>57</td>\n",
       "      <td>5</td>\n",
       "      <td>5</td>\n",
       "      <td>55</td>\n",
       "      <td>52</td>\n",
       "      <td>11</td>\n",
       "      <td>Test/00004.png</td>\n",
       "    </tr>\n",
       "  </tbody>\n",
       "</table>\n",
       "</div>"
      ],
      "text/plain": [
       "   Width  Height  Roi.X1  Roi.Y1  Roi.X2  Roi.Y2  ClassId            Path\n",
       "0     53      54       6       5      48      49       16  Test/00000.png\n",
       "1     42      45       5       5      36      40        1  Test/00001.png\n",
       "2     48      52       6       6      43      47       38  Test/00002.png\n",
       "3     27      29       5       5      22      24       33  Test/00003.png\n",
       "4     60      57       5       5      55      52       11  Test/00004.png"
      ]
     },
     "execution_count": 13,
     "metadata": {
      "tags": []
     },
     "output_type": "execute_result"
    }
   ],
   "source": [
    "#Reading test data\n",
    "import pandas as pd\n",
    "y_test = pd.read_csv('/content/trafic/Test.csv')\n",
    "y_test.head()"
   ]
  },
  {
   "cell_type": "code",
   "execution_count": 19,
   "metadata": {
    "colab": {
     "base_uri": "https://localhost:8080/",
     "height": 204
    },
    "colab_type": "code",
    "id": "YZV72fmDeSIX",
    "outputId": "9eeb73b5-e85a-4274-b3c0-2c9eb13a3085"
   },
   "outputs": [
    {
     "data": {
      "text/html": [
       "<div>\n",
       "<style scoped>\n",
       "    .dataframe tbody tr th:only-of-type {\n",
       "        vertical-align: middle;\n",
       "    }\n",
       "\n",
       "    .dataframe tbody tr th {\n",
       "        vertical-align: top;\n",
       "    }\n",
       "\n",
       "    .dataframe thead th {\n",
       "        text-align: right;\n",
       "    }\n",
       "</style>\n",
       "<table border=\"1\" class=\"dataframe\">\n",
       "  <thead>\n",
       "    <tr style=\"text-align: right;\">\n",
       "      <th></th>\n",
       "      <th>Width</th>\n",
       "      <th>Height</th>\n",
       "      <th>Roi.X1</th>\n",
       "      <th>Roi.Y1</th>\n",
       "      <th>Roi.X2</th>\n",
       "      <th>Roi.Y2</th>\n",
       "      <th>ClassId</th>\n",
       "      <th>Path</th>\n",
       "      <th>newpath</th>\n",
       "    </tr>\n",
       "  </thead>\n",
       "  <tbody>\n",
       "    <tr>\n",
       "      <th>0</th>\n",
       "      <td>53</td>\n",
       "      <td>54</td>\n",
       "      <td>6</td>\n",
       "      <td>5</td>\n",
       "      <td>48</td>\n",
       "      <td>49</td>\n",
       "      <td>16</td>\n",
       "      <td>Test/00000.png</td>\n",
       "      <td>/content/trafic/Test/00000.png</td>\n",
       "    </tr>\n",
       "    <tr>\n",
       "      <th>1</th>\n",
       "      <td>42</td>\n",
       "      <td>45</td>\n",
       "      <td>5</td>\n",
       "      <td>5</td>\n",
       "      <td>36</td>\n",
       "      <td>40</td>\n",
       "      <td>1</td>\n",
       "      <td>Test/00001.png</td>\n",
       "      <td>/content/trafic/Test/00001.png</td>\n",
       "    </tr>\n",
       "    <tr>\n",
       "      <th>2</th>\n",
       "      <td>48</td>\n",
       "      <td>52</td>\n",
       "      <td>6</td>\n",
       "      <td>6</td>\n",
       "      <td>43</td>\n",
       "      <td>47</td>\n",
       "      <td>38</td>\n",
       "      <td>Test/00002.png</td>\n",
       "      <td>/content/trafic/Test/00002.png</td>\n",
       "    </tr>\n",
       "    <tr>\n",
       "      <th>3</th>\n",
       "      <td>27</td>\n",
       "      <td>29</td>\n",
       "      <td>5</td>\n",
       "      <td>5</td>\n",
       "      <td>22</td>\n",
       "      <td>24</td>\n",
       "      <td>33</td>\n",
       "      <td>Test/00003.png</td>\n",
       "      <td>/content/trafic/Test/00003.png</td>\n",
       "    </tr>\n",
       "    <tr>\n",
       "      <th>4</th>\n",
       "      <td>60</td>\n",
       "      <td>57</td>\n",
       "      <td>5</td>\n",
       "      <td>5</td>\n",
       "      <td>55</td>\n",
       "      <td>52</td>\n",
       "      <td>11</td>\n",
       "      <td>Test/00004.png</td>\n",
       "      <td>/content/trafic/Test/00004.png</td>\n",
       "    </tr>\n",
       "  </tbody>\n",
       "</table>\n",
       "</div>"
      ],
      "text/plain": [
       "   Width  Height  ...            Path                         newpath\n",
       "0     53      54  ...  Test/00000.png  /content/trafic/Test/00000.png\n",
       "1     42      45  ...  Test/00001.png  /content/trafic/Test/00001.png\n",
       "2     48      52  ...  Test/00002.png  /content/trafic/Test/00002.png\n",
       "3     27      29  ...  Test/00003.png  /content/trafic/Test/00003.png\n",
       "4     60      57  ...  Test/00004.png  /content/trafic/Test/00004.png\n",
       "\n",
       "[5 rows x 9 columns]"
      ]
     },
     "execution_count": 19,
     "metadata": {
      "tags": []
     },
     "output_type": "execute_result"
    }
   ],
   "source": [
    "#Use this in google colab\n",
    "y_test['newpath']=\"/content/trafic/\"+y_test['Path']\n",
    "y_test.head()"
   ]
  },
  {
   "cell_type": "code",
   "execution_count": 0,
   "metadata": {
    "colab": {},
    "colab_type": "code",
    "id": "Hrngv3HxSIzx"
   },
   "outputs": [],
   "source": [
    "#Testing on test dataset\n",
    "from sklearn.metrics import accuracy_score\n",
    "labels = y_test[\"ClassId\"].values\n",
    "#Use newpath in Google colab to read images, otherwise use path \n",
    "imgs = y_test['newpath'].values\n",
    "data=[]\n",
    "for img in imgs:\n",
    "    image = Image.open(img)\n",
    "    image = image.resize((30,30))\n",
    "    data.append(np.array(image))\n",
    "X_test=np.array(data)\n",
    "pred = model.predict_classes(X_test)"
   ]
  },
  {
   "cell_type": "code",
   "execution_count": 21,
   "metadata": {
    "colab": {
     "base_uri": "https://localhost:8080/",
     "height": 34
    },
    "colab_type": "code",
    "id": "y3wUlh8xgL72",
    "outputId": "2260b089-88f0-438a-eecc-93c1b642fe47"
   },
   "outputs": [
    {
     "data": {
      "text/plain": [
       "0.965716547901821"
      ]
     },
     "execution_count": 21,
     "metadata": {
      "tags": []
     },
     "output_type": "execute_result"
    }
   ],
   "source": [
    "#Accuracy on test dataset\n",
    "accuracy_score(labels,pred)"
   ]
  },
  {
   "cell_type": "code",
   "execution_count": 0,
   "metadata": {
    "colab": {},
    "colab_type": "code",
    "id": "-JKsuJs9gftR"
   },
   "outputs": [],
   "source": [
    "model.save('traffic_sign_classifier.h5')"
   ]
  },
  {
   "cell_type": "code",
   "execution_count": 0,
   "metadata": {
    "colab": {},
    "colab_type": "code",
    "id": "Qb9R8AMLgfC_"
   },
   "outputs": [],
   "source": []
  },
  {
   "cell_type": "markdown",
   "metadata": {
    "colab_type": "text",
    "id": "MWbZpboMUhio"
   },
   "source": []
  }
 ],
 "metadata": {
  "accelerator": "GPU",
  "colab": {
   "collapsed_sections": [],
   "name": "Traffic_sign_recognition.ipynb",
   "provenance": []
  },
  "kernelspec": {
   "display_name": "Python 3",
   "language": "python",
   "name": "python3"
  },
  "language_info": {
   "codemirror_mode": {
    "name": "ipython",
    "version": 3
   },
   "file_extension": ".py",
   "mimetype": "text/x-python",
   "name": "python",
   "nbconvert_exporter": "python",
   "pygments_lexer": "ipython3",
   "version": "3.7.7"
  }
 },
 "nbformat": 4,
 "nbformat_minor": 1
}
